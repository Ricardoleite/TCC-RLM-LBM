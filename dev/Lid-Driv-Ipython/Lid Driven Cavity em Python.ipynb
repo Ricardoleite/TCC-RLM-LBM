{
 "metadata": {
  "name": "",
  "signature": "sha256:9885b09060c62a927aaa3c63eb4bfbc8e79cc6e69474633f6e62541a9286cc03"
 },
 "nbformat": 3,
 "nbformat_minor": 0,
 "worksheets": [
  {
   "cells": [
    {
     "cell_type": "code",
     "collapsed": false,
     "input": [
      "%pylab inline\n"
     ],
     "language": "python",
     "metadata": {},
     "outputs": [
      {
       "output_type": "stream",
       "stream": "stdout",
       "text": [
        "Populating the interactive namespace from numpy and matplotlib\n"
       ]
      },
      {
       "output_type": "stream",
       "stream": "stderr",
       "text": [
        "WARNING: pylab import has clobbered these variables: ['f']\n",
        "`%matplotlib` prevents importing * from pylab and numpy\n"
       ]
      }
     ],
     "prompt_number": 3
    },
    {
     "cell_type": "code",
     "collapsed": false,
     "input": [
      "m=100\n",
      "n=100\n",
      "mstep=3\n",
      "dx=1.0\n",
      "dy=1.0\n",
      "dt=1.0\n",
      "rhoo=5.0\n",
      "uo=0.1\n",
      "visco=0.01\n",
      "omega=1.0/(3.0*visco+0.5)\n",
      "k=linspace(0.0,8.0,9.0)\n",
      "w=empty(k.shape)\n",
      "w[0]=4./9.\n",
      "for i in range(5)[1:]:\n",
      "    w[i]=1./9.\n",
      "for i in range(9)[5:]:\n",
      "    w[i]=1./36.\n",
      "cx=empty(k.shape)\n",
      "cy=empty(k.shape)\n",
      "cx[0]=0\n",
      "cx[1]=1\n",
      "cx[2]=-1                                             \n",
      "cx[3]=0\n",
      "cx[4]=0\n",
      "cx[5]=1\n",
      "cx[6]=-1\n",
      "cx[7]=-1\n",
      "cx[8]=1\n",
      "cy[0]=0\n",
      "cy[1]=0\n",
      "cy[2]=0\n",
      "cy[3]=1                                           \n",
      "cy[4]=-1\n",
      "cy[5]=1\n",
      "cy[6]=-1\n",
      "cy[7]=1\n",
      "cy[8]=-1\n",
      "f=[0]*9\n",
      "for a in range(9):\n",
      "    f[a]=[0]*(m+1)\n",
      "    for b in range(m+1):\n",
      "        f[a][b]=[0]*(n+1)\n",
      "feq=[0]*9\n",
      "for a in range(9):\n",
      "    feq[a]=[0]*(m+1)\n",
      "    for b in range(m+1):\n",
      "        feq[a][b]=[0]*(n+1)\n",
      "rho=[rhoo]*(m+1)\n",
      "for a in range(m+1):\n",
      "    rho[a]=[rhoo]*(n+1)\n",
      "u=[0]*(m+1)\n",
      "for a in range(m+1):\n",
      "    u[a]=[0]*(n+1)\n",
      "v=[0]*(m+1)\n",
      "for a in range(m+1):\n",
      "    v[a]=[0]*(n+1)\n",
      "for a in range(m+1)[1:-1]:\n",
      "    u[100][a]=uo\n",
      "    v[100][a]=0"
     ],
     "language": "python",
     "metadata": {},
     "outputs": [],
     "prompt_number": 4
    },
    {
     "cell_type": "code",
     "collapsed": false,
     "input": [
      "for P in range(mstep):       #Processo de colis\u00e3o\n",
      "    for i in range(m+1):\n",
      "        for j in range(n+1):\n",
      "            t1=u[j][i]*u[j][i]+v[j][i]*v[j][i]\n",
      "            for k in range(9):\n",
      "                t2=u[j][i]*cx[k]+v[j][i]*cy[k]\n",
      "                feq[k][j][i]=rho[j][i]*w[k]*(1.0+(3.0*t2)+(4.5*t2*t2)-(1.5*t1))\n",
      "                f[k][j][i]=omega*feq[k][j][i]+(1.0-omega)*f[k][j][i]\n",
      "    for j in range(n+1):         #Processo de transmiss\u00e3o\n",
      "        for i in range(m+1)[1:]:                \n",
      "            f[1][j][m-i+1]=f[1][j][m-i]\n",
      "            f[2][j][i-1]=f[2][j][i]\n",
      "    for i in range(m+1):\n",
      "        for j in range(n+1)[1:]:\n",
      "            f[3][n-j+1][i]=f[3][n-j][i]\n",
      "            f[4][j-1][i]=f[4][j][i]\n",
      "    for j in range(n+1)[1:]:\n",
      "        for i in range(m+1)[1:]:\n",
      "            f[5][n-j+1][m-i+1]=f[5][n-j][m-i]\n",
      "            f[6][j-1][i-1]=f[6][j][i]\n",
      "    for j in range(n+1)[1:]:\n",
      "        for i in range(m+1)[1:]:\n",
      "            f[7][n-j+1][i-1]=f[7][n-j][i]\n",
      "            f[8][j-1][m-i+1]=f[8][j][m-i]\n",
      "    for j in range(n+1):                   #Condi\u00e7\u00f5es de contorno\n",
      "        f[1][j][0]=f[2][j][0]\n",
      "        f[8][j][0]=f[7][j][0]\n",
      "        f[5][j][0]=f[6][j][0]               #Camada oeste\n",
      "        f[2][j][n]=f[1][j][n]\n",
      "        f[7][j][n]=f[8][j][n]\n",
      "        f[6][j][n]=f[5][j][n]              #Camada leste\n",
      "    for i in range(m+1):\n",
      "        f[3][0][i]=f[4][0][i]\n",
      "        f[5][0][i]=f[6][0][i]\n",
      "        f[7][0][i]=f[8][0][i]             #Camada sul\n",
      "    for i in range(m+1)[1:-1]:\n",
      "        rhon=f[0][n][i]+f[1][n][i]+f[2][n][i]+2.*(f[3][n][i]+f[7][n][i]+f[5][n][i])\n",
      "        f[4][n][i]=f[3][n][i]\n",
      "        f[8][n][i]=f[7][n][i]+(rhon*uo/6.)\n",
      "        f[6][n][i]=f[5][n][i]-(rhon*uo/6.)    #Camada norte\n",
      "    for j in range(n+1):\n",
      "        for i in range(m+1):\n",
      "            ssum=0.0\n",
      "            for k in range(9):\n",
      "                ssum=ssum+f[k][j][i]\n",
      "            rho[j][i]=ssum\n",
      "    for i in range(m+1):\n",
      "        for j in range(n+1)[:-1]:\n",
      "            usum=0.0\n",
      "            vsum=0.0\n",
      "            for k in range(9):\n",
      "                usum=usum+f[k][j][i]*cx[k]\n",
      "                vsum=vsum+f[k][j][i]*cy[k]\n",
      "            u[j][i]=usum/rho[j][i]\n",
      "            v[j][i]=vsum/rho[j][i]\n",
      "    U = np.array(u).reshape(101, 101)\n",
      "    V = np.array(v).reshape(101, 101)\n",
      "    vMag = np.sqrt(U*U + V*V)\n",
      "    X=np.linspace(0.0,1.0,101)\n",
      "    Y=np.linspace(0.0, 1.0, 101)\n",
      "    X,Y=np.meshgrid(X,Y)\n",
      "    plt.streamplot(X, Y, U, V, color=vMag, density = 5, linewidth=0.25, arrowsize=0.1)\n",
      "    plt.savefig('NDesenvolv-%03d.png' % (P,), dpi=1200)\n",
      "    plt.clf()\n",
      "#plt.colorbar()"
     ],
     "language": "python",
     "metadata": {},
     "outputs": [
      {
       "metadata": {},
       "output_type": "display_data",
       "text": [
        "<matplotlib.figure.Figure at 0x41c4e10>"
       ]
      }
     ],
     "prompt_number": 9
    },
    {
     "cell_type": "code",
     "collapsed": false,
     "input": [
      "plt.clf()"
     ],
     "language": "python",
     "metadata": {},
     "outputs": [
      {
       "metadata": {},
       "output_type": "display_data",
       "text": [
        "<matplotlib.figure.Figure at 0xa81b4a8>"
       ]
      }
     ],
     "prompt_number": 7
    },
    {
     "cell_type": "code",
     "collapsed": false,
     "input": [
      "plt.show()"
     ],
     "language": "python",
     "metadata": {},
     "outputs": [],
     "prompt_number": 8
    },
    {
     "cell_type": "code",
     "collapsed": false,
     "input": [],
     "language": "python",
     "metadata": {},
     "outputs": []
    }
   ],
   "metadata": {}
  }
 ]
}